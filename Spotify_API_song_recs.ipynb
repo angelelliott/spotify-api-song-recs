{
  "nbformat": 4,
  "nbformat_minor": 0,
  "metadata": {
    "colab": {
      "provenance": [],
      "mount_file_id": "18U8Hqh7zHK4R7I03s0TE5VD2KTiLI_ID",
      "authorship_tag": "ABX9TyMTerYtmPaFS+nLqbA9sGdj",
      "include_colab_link": true
    },
    "kernelspec": {
      "name": "python3",
      "display_name": "Python 3"
    },
    "language_info": {
      "name": "python"
    }
  },
  "cells": [
    {
      "cell_type": "markdown",
      "metadata": {
        "id": "view-in-github",
        "colab_type": "text"
      },
      "source": [
        "<a href=\"https://colab.research.google.com/github/angelelliott/spotify-api-song-recs/blob/main/Spotify_API_song_recs.ipynb\" target=\"_parent\"><img src=\"https://colab.research.google.com/assets/colab-badge.svg\" alt=\"Open In Colab\"/></a>"
      ]
    },
    {
      "cell_type": "markdown",
      "source": [
        "I am always listening to music. I love anything guitars, high-production value, and poetic lyricism. Some of my favorite musicians are Kurt Vile (prodigious guitarist), Kehlani (hopeless romantic with killer beats), and Courtney Barnett (poet).\n",
        "\n",
        "Given my affinity to the melody, I regularly use Spotify. Spotify gathers insights from users' data to improve their algorithm, so I will use the Spotify API to discover trends in my usage history.\n"
      ],
      "metadata": {
        "id": "y0aJX6fywYQ1"
      }
    },
    {
      "cell_type": "markdown",
      "source": [
        "Logging into the Spotify API"
      ],
      "metadata": {
        "id": "MxogdFnMAJ5D"
      }
    },
    {
      "cell_type": "code",
      "source": [
        "# Spotipy is a library that facilitates our access to the Spotify Web API.\n",
        "!pip install spotipy"
      ],
      "metadata": {
        "colab": {
          "base_uri": "https://localhost:8080/"
        },
        "id": "sHrUXorE-MZH",
        "outputId": "bb341317-ee34-4cac-d8e3-d0637e744c73"
      },
      "execution_count": null,
      "outputs": [
        {
          "output_type": "stream",
          "name": "stdout",
          "text": [
            "Looking in indexes: https://pypi.org/simple, https://us-python.pkg.dev/colab-wheels/public/simple/\n",
            "Collecting spotipy\n",
            "  Downloading spotipy-2.23.0-py3-none-any.whl (29 kB)\n",
            "Collecting redis>=3.5.3 (from spotipy)\n",
            "  Downloading redis-4.5.5-py3-none-any.whl (240 kB)\n",
            "\u001b[2K     \u001b[90m━━━━━━━━━━━━━━━━━━━━━━━━━━━━━━━━━━━━━━━\u001b[0m \u001b[32m240.3/240.3 kB\u001b[0m \u001b[31m5.9 MB/s\u001b[0m eta \u001b[36m0:00:00\u001b[0m\n",
            "\u001b[?25hRequirement already satisfied: requests>=2.25.0 in /usr/local/lib/python3.10/dist-packages (from spotipy) (2.27.1)\n",
            "Requirement already satisfied: six>=1.15.0 in /usr/local/lib/python3.10/dist-packages (from spotipy) (1.16.0)\n",
            "Requirement already satisfied: urllib3>=1.26.0 in /usr/local/lib/python3.10/dist-packages (from spotipy) (1.26.15)\n",
            "Collecting async-timeout>=4.0.2 (from redis>=3.5.3->spotipy)\n",
            "  Downloading async_timeout-4.0.2-py3-none-any.whl (5.8 kB)\n",
            "Requirement already satisfied: certifi>=2017.4.17 in /usr/local/lib/python3.10/dist-packages (from requests>=2.25.0->spotipy) (2022.12.7)\n",
            "Requirement already satisfied: charset-normalizer~=2.0.0 in /usr/local/lib/python3.10/dist-packages (from requests>=2.25.0->spotipy) (2.0.12)\n",
            "Requirement already satisfied: idna<4,>=2.5 in /usr/local/lib/python3.10/dist-packages (from requests>=2.25.0->spotipy) (3.4)\n",
            "Installing collected packages: async-timeout, redis, spotipy\n",
            "Successfully installed async-timeout-4.0.2 redis-4.5.5 spotipy-2.23.0\n"
          ]
        }
      ]
    },
    {
      "cell_type": "code",
      "source": [
        "!cp '/content/drive/MyDrive/Colab Notebooks/keys.py' .\n",
        "\n",
        "# import necessary libraries\n",
        "import keys # my client id and secret keys are saved in a separate file\n",
        "import spotipy\n",
        "import pandas as pd\n",
        "from spotipy.oauth2 import SpotifyClientCredentials\n",
        "from spotipy.oauth2 import SpotifyOAuth\n",
        "import spotipy.util as util\n",
        "import matplotlib.pyplot as plt\n",
        "import seaborn as sns\n",
        "import numpy as np"
      ],
      "metadata": {
        "id": "c7o2ob_Q-E5e"
      },
      "execution_count": null,
      "outputs": []
    },
    {
      "cell_type": "code",
      "source": [
        "cid = keys.clientID\n",
        "secret = keys.clientSecret\n",
        "client_credentials_manager = SpotifyClientCredentials(client_id=cid, client_secret=secret)\n",
        "scope =  [\"playlist-modify-public\",\"user-top-read\"]\n",
        "redirect_uri = 'https://github.com/daliarod96/'\n",
        "\n",
        "\n",
        "#Access Spotify\n",
        "sp = spotipy.Spotify(oauth_manager=SpotifyOAuth(scope=scope, client_id = cid, client_secret = secret, redirect_uri = redirect_uri, open_browser=False))\n",
        "#spotify = spotipy.Spotify(client_credentials_manager=client_credentials_manager)"
      ],
      "metadata": {
        "id": "xkNKEkyQ-HAm"
      },
      "execution_count": null,
      "outputs": []
    },
    {
      "cell_type": "markdown",
      "source": [
        "Gather data about my top artists, tracks and genres."
      ],
      "metadata": {
        "id": "DOVZN9BxARjs"
      }
    },
    {
      "cell_type": "code",
      "source": [
        "# my top artists (short_term = 4 weeks, medium_term = 6 months, long_term = years)\n",
        "results = sp.current_user_top_artists(limit=20, time_range = 'long_term' )\n",
        "top_artists = results['items']"
      ],
      "metadata": {
        "colab": {
          "base_uri": "https://localhost:8080/"
        },
        "id": "YhB138Css4-S",
        "outputId": "da6b9092-8663-484f-a9d0-eab250618118"
      },
      "execution_count": null,
      "outputs": [
        {
          "name": "stdout",
          "output_type": "stream",
          "text": [
            "Go to the following URL: https://accounts.spotify.com/authorize?client_id=393f02d4d8d64f5f8067bdb41ca0750f&response_type=code&redirect_uri=https%3A%2F%2Fgithub.com%2Fdaliarod96%2F&scope=playlist-modify-public+user-top-read\n",
            "Enter the URL you were redirected to: https://github.com/daliarod96/?code=AQBQQp-dnz1z6PVrJlzNsykoSUu8P9U45b9MHLjp-4Fkuya3rfRYg0MkpBPIyHTVEKnnKb7-FNrNOP89QPfoEi6XTPQm9d4vU8ueYzXy5iVL1d6QZ1csQLoYkDPcKoUMqxiQPn8r2F3dwtu-6F6rmTNfpqz7CwMc56CtjZiUSbouCGYlrfxVi9DR8AfNKKT_RYdqa1i5MU7urPapPx5Q0GXwtYhTZ1vzPg\n"
          ]
        }
      ]
    },
    {
      "cell_type": "code",
      "source": [
        "print('My top artists of all time are:')\n",
        "for i, artist in enumerate(top_artists):\n",
        "  print(f'{i+1}.', artist['name'])\n",
        "  #artist_genres[artist['name']] = artist['genres']\n",
        "  #artist_popularity[artist['name']] = artist['popularity']\n"
      ],
      "metadata": {
        "colab": {
          "base_uri": "https://localhost:8080/"
        },
        "id": "pY8gP-ISL2Fu",
        "outputId": "1dd8c5e4-60b4-4eab-a16f-ba1a6c0c9542"
      },
      "execution_count": null,
      "outputs": [
        {
          "output_type": "stream",
          "name": "stdout",
          "text": [
            "My top artists of all time are:\n",
            "1. Courtney Barnett\n",
            "2. Bright Eyes\n",
            "3. Kehlani\n",
            "4. Doja Cat\n",
            "5. Kurt Vile\n",
            "6. Sufjan Stevens\n",
            "7. Elliott Smith\n",
            "8. Mitski\n",
            "9. Megan Thee Stallion\n",
            "10. Sharon Van Etten\n",
            "11. Florence + The Machine\n",
            "12. SZA\n",
            "13. ROSALÍA\n",
            "14. Kacey Musgraves\n",
            "15. The War On Drugs\n",
            "16. Warpaint\n",
            "17. Arctic Monkeys\n",
            "18. Japanese Breakfast\n",
            "19. Sleater-Kinney\n",
            "20. Phoebe Bridgers\n"
          ]
        }
      ]
    },
    {
      "cell_type": "code",
      "source": [
        "# my top artists medium term\n",
        "results = sp.current_user_top_artists(limit=20, time_range = 'medium_term' )\n",
        "top_artists = results['items']\n",
        "print('My top artists in the last 6 months:')\n",
        "for i, artist in enumerate(top_artists):\n",
        "  print(f'{i+1}.', artist['name'])\n",
        "  #artist_genres[artist['name']] = artist['genres']\n",
        "  #artist_popularity[artist['name']] = artist['popularity']\n"
      ],
      "metadata": {
        "colab": {
          "base_uri": "https://localhost:8080/"
        },
        "id": "6FxuG-lhPM1F",
        "outputId": "64b7d7bc-3671-46c1-fd68-77eecdb05f39"
      },
      "execution_count": null,
      "outputs": [
        {
          "output_type": "stream",
          "name": "stdout",
          "text": [
            "My top artists in the last 6 months:\n",
            "1. Kurt Vile\n",
            "2. The War On Drugs\n",
            "3. Courtney Barnett\n",
            "4. Kehlani\n",
            "5. Kanye West\n",
            "6. ROSALÍA\n",
            "7. Arca\n",
            "8. Kendrick Lamar\n",
            "9. Ice Spice\n",
            "10. Silver Jews\n",
            "11. Ariana Grande\n",
            "12. Tokischa\n",
            "13. 070 Shake\n",
            "14. Omar Apollo\n",
            "15. Weyes Blood\n",
            "16. SZA\n",
            "17. Doja Cat\n",
            "18. King Gizzard & The Lizard Wizard\n",
            "19. Tyler, The Creator\n",
            "20. Jessie Ware\n"
          ]
        }
      ]
    },
    {
      "cell_type": "code",
      "source": [
        "artist_genres = {}\n",
        "artist_popularity = {}\n",
        "artist_uri = {}\n",
        "\n",
        "# my top artists in the last 4 weeks\n",
        "results = sp.current_user_top_artists(limit=20, time_range = 'short_term' )\n",
        "top_artists = results['items']\n",
        "print('My top artists in the last 4 weeks:')\n",
        "for i, artist in enumerate(top_artists):\n",
        "  print(f'{i+1}.', artist['name'])\n",
        "  artist_genres[artist['name']] = artist['genres']\n",
        "  artist_popularity[artist['name']] = artist['popularity']\n",
        "  artist_uri[artist['name']] = artist['uri']"
      ],
      "metadata": {
        "colab": {
          "base_uri": "https://localhost:8080/"
        },
        "id": "o94ilGGHRU8C",
        "outputId": "2cb8934c-13b1-47b7-8b2a-b571e3de8900"
      },
      "execution_count": null,
      "outputs": [
        {
          "output_type": "stream",
          "name": "stdout",
          "text": [
            "My top artists in the last 4 weeks:\n",
            "1. Kurt Vile\n",
            "2. 070 Shake\n",
            "3. Tokischa\n",
            "4. Ice Spice\n",
            "5. Kehlani\n",
            "6. The War On Drugs\n",
            "7. Japanese Breakfast\n",
            "8. FRNCE\n",
            "9. Jen Cloher\n",
            "10. Arca\n",
            "11. Courtney Barnett\n",
            "12. Whitney Houston\n",
            "13. James Blake\n",
            "14. Sudan Archives\n",
            "15. Arc De Soleil\n",
            "16. Omar Apollo\n",
            "17. Frank Ocean\n",
            "18. Allah-Las\n",
            "19. Faye Webster\n",
            "20. ROSALÍA\n"
          ]
        }
      ]
    },
    {
      "cell_type": "markdown",
      "source": [
        "The first thing I notice is how much my streaming of Courtney Barnett's music has decreased over time. She used to be my #1 favorite and today she takes a spot in the lower half of my top artists. I have dug deep into Kurt Vile's music in the last year, reflected by the fact that he has been my top artist for 6 months.\n",
        "\n",
        "I'm surprised that FRNCE, Whitney Houston, and Jen Cloher made it into my top artists for this past month. I have only streamed their music once or twice. I also do not know who Arc De Soleil is. Either I am not using Spotify often enough or I am not discovering new artists to obsess over. I lean towards the latter, as my partner often teases me that I always listen to the same four albums. Needless to say, I am in dire need of some music recommendations.  "
      ],
      "metadata": {
        "id": "pHjqh3VIKRRI"
      }
    },
    {
      "cell_type": "markdown",
      "source": [
        "Spotify provides information about each artist's popularity and genres. Popularity is a number between 0 - 100 that represents the average popularity of all the artist's tracks. Popularity for a given track is calculated by the Spotify algorithm and is based mostly on the total number of plays the track has had and how recent those plays are."
      ],
      "metadata": {
        "id": "Ig6uLQGK7pz0"
      }
    },
    {
      "cell_type": "code",
      "source": [
        "# Gather genre and popularity data into a dataframe\n",
        "# I'm only doing this for short term top artists since that best reflects my musical interests at this point in time.\n",
        "df = pd.DataFrame({'artist': artist_genres.keys(), 'genres': artist_genres.values(), 'popularity': artist_popularity.values(), 'uri': artist_uri.values()})\n",
        "pd.set_option('display.max_colwidth', None)\n",
        "\n",
        "ax = sns.histplot(df['popularity'], kde=True, bins=10, color = '#9E0C8F')\n",
        "ax.set_title('Distribution of my top artists\\' popularities')\n",
        "ax.set_xlabel('Popularity (0-100)')\n",
        "plt.show()"
      ],
      "metadata": {
        "colab": {
          "base_uri": "https://localhost:8080/",
          "height": 472
        },
        "id": "iyUSWmJNzsQo",
        "outputId": "90c80938-d993-447e-a313-fe0f2890e3ef"
      },
      "execution_count": null,
      "outputs": [
        {
          "output_type": "display_data",
          "data": {
            "text/plain": [
              "<Figure size 640x480 with 1 Axes>"
            ],
            "image/png": "[encoded data removed]"
          },
          "metadata": {}
        }
      ]
    },
    {
      "cell_type": "code",
      "source": [
        "print('My top genres in the last 4 weeks:')\n",
        "df[['artist','genres']]"
      ],
      "metadata": {
        "colab": {
          "base_uri": "https://localhost:8080/",
          "height": 773
        },
        "id": "ntI2JqX-xRFm",
        "outputId": "a878ce84-f3e6-42cc-d808-c1f110d6cde3"
      },
      "execution_count": null,
      "outputs": [
        {
          "output_type": "stream",
          "name": "stdout",
          "text": [
            "My top genres in the last 4 weeks:\n"
          ]
        },
        {
          "output_type": "execute_result",
          "data": {
            "text/plain": [
              "                artist  \\\n",
              "0            Kurt Vile   \n",
              "1            070 Shake   \n",
              "2             Tokischa   \n",
              "3            Ice Spice   \n",
              "4              Kehlani   \n",
              "5     The War On Drugs   \n",
              "6   Japanese Breakfast   \n",
              "7                FRNCE   \n",
              "8           Jen Cloher   \n",
              "9                 Arca   \n",
              "10    Courtney Barnett   \n",
              "11     Whitney Houston   \n",
              "12         James Blake   \n",
              "13      Sudan Archives   \n",
              "14       Arc De Soleil   \n",
              "15         Omar Apollo   \n",
              "16         Frank Ocean   \n",
              "17           Allah-Las   \n",
              "18        Faye Webster   \n",
              "19             ROSALÍA   \n",
              "\n",
              "                                                                                                                                                   genres  \n",
              "0   [alternative rock, art pop, chamber pop, indie rock, modern folk rock, neo-psychedelic, noise pop, philly indie, singer-songwriter, stomp and holler]  \n",
              "1                                                                                                                                        [new jersey rap]  \n",
              "2                                                                                                                           [rap latina, trap dominicano]  \n",
              "3                                                                                                                                           [bronx drill]  \n",
              "4                                                                                                                                              [pop, r&b]  \n",
              "5                                                                                                    [chamber pop, indie rock, modern rock, philly indie]  \n",
              "6                                                                                            [art pop, eugene indie, indie pop, indie rock, philly indie]  \n",
              "7                                                                                                                                                      []  \n",
              "8                                                                                                                     [australian indie, melbourne indie]  \n",
              "9                                                                              [ai, art pop, deconstructed club, escape room, experimental pop, fluxwork]  \n",
              "10                                         [art pop, australian indie, chamber pop, indie pop, indie rock, melbourne indie, noise pop, singer-songwriter]  \n",
              "11                                                                                                                                            [dance pop]  \n",
              "12                                                                         [art pop, electronica, indie soul, indietronica, neo soul, uk alternative pop]  \n",
              "13                                                                                  [afrofuturism, alternative r&b, experimental r&b, indie soul, la pop]  \n",
              "14                                                                                                                                                     []  \n",
              "15                                                                                                                            [bedroom pop, bedroom soul]  \n",
              "16                                                                                                                             [lgbtq+ hip hop, neo soul]  \n",
              "17                                                                                                               [indie surf, neo-psychedelic, noise pop]  \n",
              "18                                                                                                                             [atlanta indie, indie pop]  \n",
              "19                                                                                                                                  [pop, r&b en espanol]  "
            ],
            "text/html": [
              "\n",
              "  <div id=\"df-17240534-f201-4e74-b2a1-e22043a0e7f7\">\n",
              "    <div class=\"colab-df-container\">\n",
              "      <div>\n",
              "<style scoped>\n",
              "    .dataframe tbody tr th:only-of-type {\n",
              "        vertical-align: middle;\n",
              "    }\n",
              "\n",
              "    .dataframe tbody tr th {\n",
              "        vertical-align: top;\n",
              "    }\n",
              "\n",
              "    .dataframe thead th {\n",
              "        text-align: right;\n",
              "    }\n",
              "</style>\n",
              "<table border=\"1\" class=\"dataframe\">\n",
              "  <thead>\n",
              "    <tr style=\"text-align: right;\">\n",
              "      <th></th>\n",
              "      <th>artist</th>\n",
              "      <th>genres</th>\n",
              "    </tr>\n",
              "  </thead>\n",
              "  <tbody>\n",
              "    <tr>\n",
              "      <th>0</th>\n",
              "      <td>Kurt Vile</td>\n",
              "      <td>[alternative rock, art pop, chamber pop, indie rock, modern folk rock, neo-psychedelic, noise pop, philly indie, singer-songwriter, stomp and holler]</td>\n",
              "    </tr>\n",
              "    <tr>\n",
              "      <th>1</th>\n",
              "      <td>070 Shake</td>\n",
              "      <td>[new jersey rap]</td>\n",
              "    </tr>\n",
              "    <tr>\n",
              "      <th>2</th>\n",
              "      <td>Tokischa</td>\n",
              "      <td>[rap latina, trap dominicano]</td>\n",
              "    </tr>\n",
              "    <tr>\n",
              "      <th>3</th>\n",
              "      <td>Ice Spice</td>\n",
              "      <td>[bronx drill]</td>\n",
              "    </tr>\n",
              "    <tr>\n",
              "      <th>4</th>\n",
              "      <td>Kehlani</td>\n",
              "      <td>[pop, r&amp;b]</td>\n",
              "    </tr>\n",
              "    <tr>\n",
              "      <th>5</th>\n",
              "      <td>The War On Drugs</td>\n",
              "      <td>[chamber pop, indie rock, modern rock, philly indie]</td>\n",
              "    </tr>\n",
              "    <tr>\n",
              "      <th>6</th>\n",
              "      <td>Japanese Breakfast</td>\n",
              "      <td>[art pop, eugene indie, indie pop, indie rock, philly indie]</td>\n",
              "    </tr>\n",
              "    <tr>\n",
              "      <th>7</th>\n",
              "      <td>FRNCE</td>\n",
              "      <td>[]</td>\n",
              "    </tr>\n",
              "    <tr>\n",
              "      <th>8</th>\n",
              "      <td>Jen Cloher</td>\n",
              "      <td>[australian indie, melbourne indie]</td>\n",
              "    </tr>\n",
              "    <tr>\n",
              "      <th>9</th>\n",
              "      <td>Arca</td>\n",
              "      <td>[ai, art pop, deconstructed club, escape room, experimental pop, fluxwork]</td>\n",
              "    </tr>\n",
              "    <tr>\n",
              "      <th>10</th>\n",
              "      <td>Courtney Barnett</td>\n",
              "      <td>[art pop, australian indie, chamber pop, indie pop, indie rock, melbourne indie, noise pop, singer-songwriter]</td>\n",
              "    </tr>\n",
              "    <tr>\n",
              "      <th>11</th>\n",
              "      <td>Whitney Houston</td>\n",
              "      <td>[dance pop]</td>\n",
              "    </tr>\n",
              "    <tr>\n",
              "      <th>12</th>\n",
              "      <td>James Blake</td>\n",
              "      <td>[art pop, electronica, indie soul, indietronica, neo soul, uk alternative pop]</td>\n",
              "    </tr>\n",
              "    <tr>\n",
              "      <th>13</th>\n",
              "      <td>Sudan Archives</td>\n",
              "      <td>[afrofuturism, alternative r&amp;b, experimental r&amp;b, indie soul, la pop]</td>\n",
              "    </tr>\n",
              "    <tr>\n",
              "      <th>14</th>\n",
              "      <td>Arc De Soleil</td>\n",
              "      <td>[]</td>\n",
              "    </tr>\n",
              "    <tr>\n",
              "      <th>15</th>\n",
              "      <td>Omar Apollo</td>\n",
              "      <td>[bedroom pop, bedroom soul]</td>\n",
              "    </tr>\n",
              "    <tr>\n",
              "      <th>16</th>\n",
              "      <td>Frank Ocean</td>\n",
              "      <td>[lgbtq+ hip hop, neo soul]</td>\n",
              "    </tr>\n",
              "    <tr>\n",
              "      <th>17</th>\n",
              "      <td>Allah-Las</td>\n",
              "      <td>[indie surf, neo-psychedelic, noise pop]</td>\n",
              "    </tr>\n",
              "    <tr>\n",
              "      <th>18</th>\n",
              "      <td>Faye Webster</td>\n",
              "      <td>[atlanta indie, indie pop]</td>\n",
              "    </tr>\n",
              "    <tr>\n",
              "      <th>19</th>\n",
              "      <td>ROSALÍA</td>\n",
              "      <td>[pop, r&amp;b en espanol]</td>\n",
              "    </tr>\n",
              "  </tbody>\n",
              "</table>\n",
              "</div>\n",
              "      <button class=\"colab-df-convert\" onclick=\"convertToInteractive('df-17240534-f201-4e74-b2a1-e22043a0e7f7')\"\n",
              "              title=\"Convert this dataframe to an interactive table.\"\n",
              "              style=\"display:none;\">\n",
              "        \n",
              "  <svg xmlns=\"http://www.w3.org/2000/svg\" height=\"24px\"viewBox=\"0 0 24 24\"\n",
              "       width=\"24px\">\n",
              "    <path d=\"M0 0h24v24H0V0z\" fill=\"none\"/>\n",
              "    <path d=\"M18.56 5.44l.94 2.06.94-2.06 2.06-.94-2.06-.94-.94-2.06-.94 2.06-2.06.94zm-11 1L8.5 8.5l.94-2.06 2.06-.94-2.06-.94L8.5 2.5l-.94 2.06-2.06.94zm10 10l.94 2.06.94-2.06 2.06-.94-2.06-.94-.94-2.06-.94 2.06-2.06.94z\"/><path d=\"M17.41 7.96l-1.37-1.37c-.4-.4-.92-.59-1.43-.59-.52 0-1.04.2-1.43.59L10.3 9.45l-7.72 7.72c-.78.78-.78 2.05 0 2.83L4 21.41c.39.39.9.59 1.41.59.51 0 1.02-.2 1.41-.59l7.78-7.78 2.81-2.81c.8-.78.8-2.07 0-2.86zM5.41 20L4 18.59l7.72-7.72 1.47 1.35L5.41 20z\"/>\n",
              "  </svg>\n",
              "      </button>\n",
              "      \n",
              "  <style>\n",
              "    .colab-df-container {\n",
              "      display:flex;\n",
              "      flex-wrap:wrap;\n",
              "      gap: 12px;\n",
              "    }\n",
              "\n",
              "    .colab-df-convert {\n",
              "      background-color: #E8F0FE;\n",
              "      border: none;\n",
              "      border-radius: 50%;\n",
              "      cursor: pointer;\n",
              "      display: none;\n",
              "      fill: #1967D2;\n",
              "      height: 32px;\n",
              "      padding: 0 0 0 0;\n",
              "      width: 32px;\n",
              "    }\n",
              "\n",
              "    .colab-df-convert:hover {\n",
              "      background-color: #E2EBFA;\n",
              "      box-shadow: 0px 1px 2px rgba(60, 64, 67, 0.3), 0px 1px 3px 1px rgba(60, 64, 67, 0.15);\n",
              "      fill: #174EA6;\n",
              "    }\n",
              "\n",
              "    [theme=dark] .colab-df-convert {\n",
              "      background-color: #3B4455;\n",
              "      fill: #D2E3FC;\n",
              "    }\n",
              "\n",
              "    [theme=dark] .colab-df-convert:hover {\n",
              "      background-color: #434B5C;\n",
              "      box-shadow: 0px 1px 3px 1px rgba(0, 0, 0, 0.15);\n",
              "      filter: drop-shadow(0px 1px 2px rgba(0, 0, 0, 0.3));\n",
              "      fill: #FFFFFF;\n",
              "    }\n",
              "  </style>\n",
              "\n",
              "      <script>\n",
              "        const buttonEl =\n",
              "          document.querySelector('#df-17240534-f201-4e74-b2a1-e22043a0e7f7 button.colab-df-convert');\n",
              "        buttonEl.style.display =\n",
              "          google.colab.kernel.accessAllowed ? 'block' : 'none';\n",
              "\n",
              "        async function convertToInteractive(key) {\n",
              "          const element = document.querySelector('#df-17240534-f201-4e74-b2a1-e22043a0e7f7');\n",
              "          const dataTable =\n",
              "            await google.colab.kernel.invokeFunction('convertToInteractive',\n",
              "                                                     [key], {});\n",
              "          if (!dataTable) return;\n",
              "\n",
              "          const docLinkHtml = 'Like what you see? Visit the ' +\n",
              "            '<a target=\"_blank\" href=https://colab.research.google.com/notebooks/data_table.ipynb>data table notebook</a>'\n",
              "            + ' to learn more about interactive tables.';\n",
              "          element.innerHTML = '';\n",
              "          dataTable['output_type'] = 'display_data';\n",
              "          await google.colab.output.renderOutput(dataTable, element);\n",
              "          const docLink = document.createElement('div');\n",
              "          docLink.innerHTML = docLinkHtml;\n",
              "          element.appendChild(docLink);\n",
              "        }\n",
              "      </script>\n",
              "    </div>\n",
              "  </div>\n",
              "  "
            ]
          },
          "metadata": {},
          "execution_count": 41
        }
      ]
    },
    {
      "cell_type": "markdown",
      "source": [
        "Given that I need some new music recommendations, I will begin by taking a look at existing playlists that Spotify thinks I might be interested in."
      ],
      "metadata": {
        "id": "1np1cCAgTNhc"
      }
    },
    {
      "cell_type": "code",
      "source": [
        "results = sp.featured_playlists(limit=10)\n",
        "uri = {}\n",
        "print('Featured playlists:')\n",
        "for i, playlist in enumerate(results['playlists']['items']):\n",
        "  print(f'{i+1}. Name:', playlist['name'])\n",
        "  print(' Description:', playlist['description'])\n",
        "  uri[playlist['name']] = playlist['uri']"
      ],
      "metadata": {
        "colab": {
          "base_uri": "https://localhost:8080/"
        },
        "id": "T7uafm2X5sz0",
        "outputId": "99e49afa-7cb8-4962-8433-04ab6491f8b6"
      },
      "execution_count": null,
      "outputs": [
        {
          "output_type": "stream",
          "name": "stdout",
          "text": [
            "Featured playlists:\n",
            "1. Name: New Music Friday\n",
            " Description: New music from The Weeknd, Metro Boomin, Toosii, Bizarrap & Peso Pluma, Karol G, Foo Fighters, Gunna and more!\n",
            "2. Name: Channel-X\n",
            " Description: Where Hip-Hop, Afro-Fusion & Pop meet R&B !  Cover: Burna Boy\n",
            "3. Name: Internet People\n",
            " Description: The soundtrack to the internet. Cover: Lil Mabu\n",
            "4. Name: Baila Reggaeton\n",
            " Description: Reggaeton hits from Young Miko, KAROL G, Feid and more.🔥🥵\n",
            "5. Name: Country Cookout\n",
            " Description: The perfect soundtrack recipe for a backyard barbecue! \n",
            "6. Name: Most Necessary\n",
            " Description: The official voice of the next generation. Cover: <a href=\"spotify:artist:1YRqgFNXqRyMDRr8ClS1NL\">Kali</a>\n",
            "7. Name: Front Page Indie\n",
            " Description: Newsworthy indie of 2023. Arlo Parks drops her sophomore album. \n",
            "8. Name: Varsity Bars\n",
            " Description: A little bit of pop, a little bit of rap. Cover: Felly\n",
            "9. Name: Dance Pop Hits\n",
            " Description: Hit the dance floor with your favorite bops!\n",
            "10. Name: Rock Party\n",
            " Description: The ultimate rock party playlist!\n"
          ]
        }
      ]
    },
    {
      "cell_type": "markdown",
      "source": [
        "I can already tell that I am not going to like these playlists. For one, I do not listen to pop music very often so I probably will not love the Dance Pop Hits playlist (#9). Let us take a closer look at some of these playlists."
      ],
      "metadata": {
        "id": "mLD5lO2p9gRB"
      }
    },
    {
      "cell_type": "code",
      "source": [
        "results = sp.playlist(playlist_id =uri['Dance Pop Hits'])\n",
        "\n",
        "print(f'First 20 songs in the Dance Pop Hits playlist.')\n",
        "for i, track in enumerate(results['tracks']['items'][0:20]):\n",
        "  print(f'{i+1}.', track['track']['name'])\n",
        "  print('   by:', ', '.join([x['name'] for x in track['track']['artists']]))"
      ],
      "metadata": {
        "colab": {
          "base_uri": "https://localhost:8080/"
        },
        "id": "jMaSL9LU-Ykc",
        "outputId": "dbf23d1f-e0bc-4fba-d9ae-b0313adcccfe"
      },
      "execution_count": null,
      "outputs": [
        {
          "output_type": "stream",
          "name": "stdout",
          "text": [
            "First 20 songs in the Dance Pop Hits playlist.\n",
            "1. Latch\n",
            "   by: Disclosure, Sam Smith\n",
            "2. More Than A Woman - SG's Paradise Edit\n",
            "   by: Bee Gees, SG Lewis\n",
            "3. You\n",
            "   by: Regard, Troye Sivan, Tate McRae\n",
            "4. Sexual\n",
            "   by: NEIKED, Dyo\n",
            "5. Baby Don't Hurt Me\n",
            "   by: David Guetta, Anne-Marie, Coi Leray\n",
            "6. Best Friend\n",
            "   by: Sofi Tukker, NERVO, The Knocks, ALISA UENO\n",
            "7. Whistle (feat. Calum Scott)\n",
            "   by: Jax Jones, Calum Scott\n",
            "8. Electricity (with Dua Lipa)\n",
            "   by: Silk City, Dua Lipa, Diplo, Mark Ronson\n",
            "9. Better Days (NEIKED x Mae Muller x Polo G)\n",
            "   by: NEIKED, Mae Muller, Polo G\n",
            "10. Moth To A Flame (with The Weeknd)\n",
            "   by: Swedish House Mafia, The Weeknd\n",
            "11. Nothing Breaks Like a Heart (feat. Miley Cyrus)\n",
            "   by: Mark Ronson, Miley Cyrus\n",
            "12. Sweet Nothing (feat. Florence Welch)\n",
            "   by: Calvin Harris, Florence Welch\n",
            "13. Rain On Me (with Ariana Grande)\n",
            "   by: Lady Gaga, Ariana Grande\n",
            "14. About Damn Time - Purple Disco Machine Remix\n",
            "   by: Lizzo, Purple Disco Machine\n",
            "15. Maybe You’re The Problem\n",
            "   by: Ava Max\n",
            "16. Cold Heart - PNAU Remix\n",
            "   by: Elton John, Dua Lipa, PNAU\n",
            "17. Levitating (feat. DaBaby)\n",
            "   by: Dua Lipa, DaBaby\n",
            "18. Remember\n",
            "   by: Becky Hill, David Guetta\n",
            "19. Never Really Over\n",
            "   by: Katy Perry\n",
            "20. Secrets\n",
            "   by: Regard, RAYE\n"
          ]
        }
      ]
    },
    {
      "cell_type": "markdown",
      "source": [
        "I have not listened to Troye Sivan, David Guetta, or Katy Perry since I was a teenager. Pass.\n",
        "\n",
        "Now let us verify if the Most Necessary playlist lives up to its name."
      ],
      "metadata": {
        "id": "xAus22DbF1NQ"
      }
    },
    {
      "cell_type": "code",
      "source": [
        "results = sp.playlist(playlist_id =uri['Most Necessary'])\n",
        "\n",
        "print(f'First 20 songs in the Most Necessary playlist.')\n",
        "for i, track in enumerate(results['tracks']['items'][0:20]):\n",
        "  print(f'{i+1}.', track['track']['name'])\n",
        "  print('   by:', ', '.join([x['name'] for x in track['track']['artists']]))"
      ],
      "metadata": {
        "colab": {
          "base_uri": "https://localhost:8080/"
        },
        "id": "QspdqFgK9YSZ",
        "outputId": "e66d7073-e7a5-441d-98be-cd0cbc688084"
      },
      "execution_count": null,
      "outputs": [
        {
          "output_type": "stream",
          "name": "stdout",
          "text": [
            "First 20 songs in the Most Necessary playlist.\n",
            "1. WISH I COULD TELL YOU\n",
            "   by: SoFaygo, DD Osama\n",
            "2. Area Codes\n",
            "   by: Kali\n",
            "3. I'm Geekin (feat. Luh Tyler)\n",
            "   by: DDG, Luh Tyler\n",
            "4. NO BAP\n",
            "   by: LUCKI\n",
            "5. WTF (feat. Polo G) - Remix\n",
            "   by: Hotboii, Polo G\n",
            "6. Whip It\n",
            "   by: BigXthaPlug\n",
            "7. First Show\n",
            "   by: Luh Tyler\n",
            "8. Neck of the Woods\n",
            "   by: Real Boston Richey\n",
            "9. Pound Town 2 (feat. Nicki Minaj & Tay Keith)\n",
            "   by: Sexyy Red, Nicki Minaj, Tay Keith\n",
            "10. My Image\n",
            "   by: Real Boston Richey\n",
            "11. Leave Her\n",
            "   by: LUCKI\n",
            "12. Off The Court (with Polo G & Einer Bankz)\n",
            "   by: SleazyWorld Go, Polo G, Einer Bankz\n",
            "13. Favorite Song (feat. Future) [Toxic Version]\n",
            "   by: Toosii, Future\n",
            "14. No Love Shemix\n",
            "   by: Flo Milli, Trina, Maiya The Don, J.K. Mac\n",
            "15. GOMD (Remix) [feat. Lil Uzi Vert]\n",
            "   by: Veeze, Lil Uzi Vert\n",
            "16. Princess Diana (with Nicki Minaj)\n",
            "   by: Ice Spice, Nicki Minaj\n",
            "17. DRACULA\n",
            "   by: Kenny Mason\n",
            "18. OFF THE PORCH (feat. BigXthaPlug & Maxo Kream)\n",
            "   by: Mike Dimes, BigXthaPlug, Maxo Kream\n",
            "19. Energy - Latto Remix\n",
            "   by: Digga D, Latto\n",
            "20. Likka Sto\n",
            "   by: Lil Blessin\n"
          ]
        }
      ]
    },
    {
      "cell_type": "markdown",
      "source": [
        "I do not know most of these artists, except for Ice Spice, Nicki Minaj, and Latto. Although I love Ice Spice, I think all of her music sounds the same and it is always about the same topic. I never got into Nicki Minaj and I think Latto is kind of corny. I do not think I will be a fan of this playlist. Pass.\n",
        "</br>\n",
        "</br>\n",
        "Clearly, I do not like any of the featured playlists that Spotify has chosen for me to explore. Luckily for me, the Spotify API provides a list of recommended tracks given one to five seeds (artists, genres, or tracks). I am going to recommend myself music using my top 5 tracks in the last four weeks as seeds."
      ],
      "metadata": {
        "id": "Lw8ifwLoHnrc"
      }
    },
    {
      "cell_type": "code",
      "source": [
        "results = sp.current_user_top_tracks(limit=50, offset=0, time_range='short_term')\n",
        "tracks = results['items']\n",
        "\n",
        "top_tracks_uri = {}\n",
        "\n",
        "print('My top 5 tracks in the last four weeks are:')\n",
        "for i, track in enumerate(tracks[0:5]):\n",
        "  print(f'{i+1}.', track['name'],   'by', ', '.join([x['name'] for x in track['artists']]))\n",
        "  top_tracks_uri[track['name']] = track['uri']\n",
        "for track in tracks:\n",
        "  top_tracks_uri[track['name']] = track['uri']"
      ],
      "metadata": {
        "colab": {
          "base_uri": "https://localhost:8080/"
        },
        "id": "SmbBa7FIP4bp",
        "outputId": "ecaf7947-62c7-47ba-ade7-646e54e7f1d6"
      },
      "execution_count": null,
      "outputs": [
        {
          "output_type": "stream",
          "name": "stdout",
          "text": [
            "My top 5 tracks in the last four weeks are:\n",
            "1. Can I by Kehlani\n",
            "2. Wakin On A Pretty Day by Kurt Vile\n",
            "3. Princess Diana (with Nicki Minaj) by Ice Spice, Nicki Minaj\n",
            "4. Say the Word by Kurt Vile\n",
            "5. An Ocean In Between The Waves by The War On Drugs\n"
          ]
        }
      ]
    },
    {
      "cell_type": "code",
      "source": [
        "# Get recommendations\n",
        "results = sp.recommendations(seed_tracks=list(top_tracks_uri.values())[0:5], limit=50)\n",
        "rec_uris = {}\n",
        "for i,track in enumerate( results['tracks']):\n",
        "   print(f'{i+1}.', track['name'],   'by', ', '.join([x['name'] for x in track['artists']]))\n",
        "   rec_uris[track['name']] = track['uri']"
      ],
      "metadata": {
        "colab": {
          "base_uri": "https://localhost:8080/"
        },
        "id": "fLVBBM3WNTV7",
        "outputId": "f240ee56-dc65-4f1a-b108-e3692deca0c8"
      },
      "execution_count": null,
      "outputs": [
        {
          "output_type": "stream",
          "name": "stdout",
          "text": [
            "1. Fountain of Good Fortune by Rolling Blackouts Coastal Fever\n",
            "2. The Way (feat. Chance the Rapper) by Kehlani, Chance the Rapper\n",
            "3. Fire by SiR\n",
            "4. Uh Huh by Bktherula\n",
            "5. Before You Gotta Go by Courtney Barnett\n",
            "6. B.I.T.C.H. by Megan Thee Stallion\n",
            "7. everything by Kehlani\n",
            "8. London Thunder by Foals\n",
            "9. I Am My Mother by Wilco\n",
            "10. Way We Won't by Grandaddy\n",
            "11. Pity by KAYWHT\n",
            "12. Talking Straight by Rolling Blackouts Coastal Fever\n",
            "13. Cupid's Curse (feat. Kehlani) by Phora, Kehlani\n",
            "14. Love You Too Much by Lucky Daye\n",
            "15. Liar by Built To Spill\n",
            "16. Too Much by Lakeyah\n",
            "17. Snakeskin by Deerhunter\n",
            "18. Fantasy (feat. Don Toliver) by Kali Uchis, Don Toliver\n",
            "19. Twerkulator by City Girls\n",
            "20. Forgive Me by Chloe x Halle\n",
            "21. Best Friend (feat. Doja Cat) by Saweetie, Doja Cat\n",
            "22. Emotional Eternal by Melody's Echo Chamber\n",
            "23. Hints by Wilco\n",
            "24. All I Know by Washed Out\n",
            "25. Trust by Brent Faiyaz\n",
            "26. Let Me Get There by Hope Sandoval & The Warm Inventions, Kurt Vile\n",
            "27. 1st Position by Kehlani\n",
            "28. We Exist by Arcade Fire\n",
            "29. Love Love Love by My Morning Jacket\n",
            "30. Not My N*gga Extended by KenTheMan\n",
            "31. Remembering Me by Cate Le Bon\n",
            "32. Don't Lie by Ty Segall\n",
            "33. Desert Raven by Jonathan Wilson\n",
            "34. Manhattan by Cat Power\n",
            "35. Wordless Chorus by My Morning Jacket\n",
            "36. Peeping Tomboy by Kurt Vile\n",
            "37. Love In The Way by Yung Bleu, Nicki Minaj\n",
            "38. Swing Lo Magellan by Dirty Projectors\n",
            "39. Jubilee Street by Nick Cave & The Bad Seeds\n",
            "40. Boyz (feat. Nicki Minaj) by Jesy Nelson, Nicki Minaj\n",
            "41. Weapon by The Boxer Rebellion\n",
            "42. Cash Rules by iyla, Method Man\n",
            "43. Dive Deep by Rolling Blackouts Coastal Fever\n",
            "44. Tread Carefully by SZA\n",
            "45. DOGTOOTH by Tyler, The Creator\n",
            "46. Darling by Real Estate\n",
            "47. My Silver Lining by First Aid Kit\n",
            "48. Feel My Pain by Kurt Vile\n",
            "49. Everest by Public Service Broadcasting\n",
            "50. Cruel Country by Wilco\n",
            "51. Up by Cardi B\n",
            "52. Alone - Slowed by Kim Petras, Nicki Minaj, xxtristanxo\n",
            "53. Lannoy Point by Ride\n",
            "54. Disappearing by Kevin Morby\n",
            "55. 2AM by SZA\n",
            "56. Is There A Ghost by Band of Horses\n",
            "57. Ragged Wood by Fleet Foxes\n",
            "58. Fear Is Like A Forest by Courtney Barnett, Kurt Vile\n",
            "59. Bottoms Up (feat. Nicki Minaj) by Trey Songz, Nicki Minaj\n",
            "60. The Hills - Remix by The Weeknd, Nicki Minaj\n",
            "61. Wintersong by Blake Mills\n",
            "62. Rodeo by City Girls\n",
            "63. I Know - PR1SVX Edit by Kanii, PR1ISVX\n",
            "64. The Take by Woods\n",
            "65. Atomized by Andrew Bird\n",
            "66. Jaywalker by Andy Shauf\n",
            "67. Never Run Away - String Synth by Kurt Vile\n",
            "68. Peppers (feat. Tommy Genesis) by Lana Del Rey, Tommy Genesis\n",
            "69. Pussy Talk by City Girls, Doja Cat\n",
            "70. Don't You Forget It by Allah-Las\n",
            "71. Ultimate Painting by Ultimate Painting\n",
            "72. Kurt Runner by Kurt Vile\n",
            "73. Die For You (with Ariana Grande) - Remix by The Weeknd, Ariana Grande\n",
            "74. It All Feels Right by Washed Out\n",
            "75. If I Ever Was a Child by Wilco\n",
            "76. Take Me Home by PinkPantheress\n",
            "77. Kidding Around by Kurt Vile\n",
            "78. Stockholm Syndrome by Yo La Tengo\n",
            "79. Blame by Bryson Tiller\n",
            "80. Revival by Deerhunter\n",
            "81. Ride For You (feat. Kehlani) by Meek Mill, Kehlani\n",
            "82. Necessary Evil by Unknown Mortal Orchestra\n",
            "83. Pressure by Bree Runway\n",
            "84. All The Good Times by Angel Olsen\n",
            "85. I'm the Man to Be by EL VY\n",
            "86. Laredo by Band of Horses\n",
            "87. I Have Been to the Mountain by Kevin Morby\n",
            "88. Occasional Rain by The War On Drugs\n",
            "89. New Speedway Boogie by Courtney Barnett\n",
            "90. JM by Strand of Oaks\n",
            "91. Song for Zula by Phosphorescent\n",
            "92. Can We Really Party Today? by Jonathan Wilson\n",
            "93. HEATED by Beyoncé\n",
            "94. Saturdays by Broken Bells\n",
            "95. You Should Be Here by Kehlani\n",
            "96. nasty by Ariana Grande\n",
            "97. Five Seconds by Twin Shadow\n",
            "98. Moonlight by Kali Uchis\n",
            "99. Birch Tree by Foals\n",
            "100. Freazy by Wolf Alice\n"
          ]
        }
      ]
    },
    {
      "cell_type": "markdown",
      "source": [
        "These recommendations are mix of songs and artists I have never heard before with songs by my top artists (Kurt Vile, Courtney Barnett, War On Drugs, Kehlani, Doja Cat). I will save the songs into a playlist."
      ],
      "metadata": {
        "id": "sdsbjpPZarxc"
      }
    },
    {
      "cell_type": "code",
      "source": [
        "playlist = sp.user_playlist_create(user = 'likesonicboom', name='my spotify recs', public=True)\n",
        "playlist.keys()"
      ],
      "metadata": {
        "colab": {
          "base_uri": "https://localhost:8080/"
        },
        "id": "XPHlSNGSbiww",
        "outputId": "23ed3f97-5522-4c62-f243-b71b489790dd"
      },
      "execution_count": null,
      "outputs": [
        {
          "output_type": "execute_result",
          "data": {
            "text/plain": [
              "dict_keys(['collaborative', 'description', 'external_urls', 'followers', 'href', 'id', 'images', 'name', 'owner', 'primary_color', 'public', 'snapshot_id', 'tracks', 'type', 'uri'])"
            ]
          },
          "metadata": {},
          "execution_count": 49
        }
      ]
    },
    {
      "cell_type": "code",
      "source": [
        "sp.playlist_add_items(playlist_id=playlist['id'], items=list(rec_uris.values()), position=None)"
      ],
      "metadata": {
        "id": "envIdnrlc5ak"
      },
      "execution_count": null,
      "outputs": []
    },
    {
      "cell_type": "markdown",
      "source": [
        "I want to further tailor my playlist to my favorite songs. Spotify provides the following audio features per track:\n",
        "* duration (in milliseconds)\n",
        "* danceability\n",
        "* energy\n",
        "* key\n",
        "* loudness\n",
        "* mode\n",
        "* speechiness\n",
        "* acousticness\n",
        "* instrumentalness\n",
        "* liveness\n",
        "* valence\n",
        "* tempo\n",
        "* time_signature\n",
        "\n"
      ],
      "metadata": {
        "id": "AfEJCKCKELD9"
      }
    },
    {
      "cell_type": "code",
      "source": [
        "df_top_tracks = pd.DataFrame({'track': list(top_tracks_uri.keys()), 'uri': list(top_tracks_uri.values()) })"
      ],
      "metadata": {
        "id": "tMTSnf8zj39l"
      },
      "execution_count": null,
      "outputs": []
    },
    {
      "cell_type": "code",
      "source": [
        "duration = []\n",
        "danceability = []\n",
        "energy = []\n",
        "key = []\n",
        "loudness = []\n",
        "mode = []\n",
        "speechiness = []\n",
        "acousticness = []\n",
        "instrumentalness = []\n",
        "liveness = []\n",
        "valence = []\n",
        "tempo = []\n",
        "time_signature = []\n",
        "\n",
        "for uri in df_top_tracks['uri']:\n",
        "  results = sp.audio_features(uri)[0]\n",
        "  duration.append(results['duration_ms'])\n",
        "  danceability.append(results['danceability'])\n",
        "  energy.append(results['energy'])\n",
        "  key.append(results['key'])\n",
        "  loudness.append(results['loudness'])\n",
        "  mode.append(results['mode'])\n",
        "  speechiness.append(results['speechiness'])\n",
        "  acousticness.append(results['acousticness'])\n",
        "  instrumentalness.append(results['instrumentalness'])\n",
        "  liveness.append(results['liveness'])\n",
        "  valence.append(results['valence'])\n",
        "  tempo.append(results['tempo'])\n",
        "  time_signature.append(results['time_signature'])"
      ],
      "metadata": {
        "id": "2q8UvVLXkm5o"
      },
      "execution_count": null,
      "outputs": []
    },
    {
      "cell_type": "code",
      "source": [
        "# Add audio features to df_top_tracks\n",
        "df_top_tracks['duration'] = duration\n",
        "df_top_tracks['danceability'] = danceability\n",
        "df_top_tracks['energy']= energy\n",
        "df_top_tracks['key'] = key\n",
        "df_top_tracks['loudness'] = loudness\n",
        "df_top_tracks['mode'] = mode\n",
        "df_top_tracks['speechiness'] = speechiness\n",
        "df_top_tracks['acousticness'] = acousticness\n",
        "df_top_tracks['instrumentalness'] = instrumentalness\n",
        "df_top_tracks['liveness'] = liveness\n",
        "df_top_tracks['valence'] = valence\n",
        "df_top_tracks['tempo'] = tempo\n",
        "df_top_tracks['time_signature'] = time_signature"
      ],
      "metadata": {
        "id": "0dmyR1sz_TE8"
      },
      "execution_count": null,
      "outputs": []
    },
    {
      "cell_type": "code",
      "source": [
        "ax = sns.histplot(data= df_top_tracks['duration']/60000, kde=True, bins=10, color = '#9E0C8F' )\n",
        "ax.set_title(\"Spotify top tracks audio features: duration\")\n",
        "ax.set_xlabel('duration (minutes)')\n",
        "ax.set_ylabel(\"count\")\n",
        "plt.xticks(rotation=-90)\n",
        "plt.show()"
      ],
      "metadata": {
        "colab": {
          "base_uri": "https://localhost:8080/",
          "height": 475
        },
        "id": "R78xv7u8Icoq",
        "outputId": "3dec3b12-37fd-48df-bfed-53a96dad3f1a"
      },
      "execution_count": null,
      "outputs": [
        {
          "output_type": "display_data",
          "data": {
            "text/plain": [
              "<Figure size 640x480 with 1 Axes>"
            ],
            "image/png": "[encoded data removed]"
          },
          "metadata": {}
        }
      ]
    },
    {
      "cell_type": "markdown",
      "source": [
        "On average, my favorite songs are 3-4 minutes but I am not opposed to longer songs, as seen by the 10 minute track in my favorites."
      ],
      "metadata": {
        "id": "9nYZ1wJmJtJB"
      }
    },
    {
      "cell_type": "code",
      "source": [
        "ax = sns.histplot(data= df_top_tracks['tempo'], kde=True, bins=10, color = '#9E0C8F' )\n",
        "ax.set_title(\"Spotify top tracks audio features: tempo\")\n",
        "ax.set_xlabel('tempo')\n",
        "ax.set_ylabel(\"count\")\n",
        "plt.show()"
      ],
      "metadata": {
        "colab": {
          "base_uri": "https://localhost:8080/",
          "height": 472
        },
        "id": "OsfPSHQIIBay",
        "outputId": "54276c83-9c6e-4082-b1e5-2d73d17e59ce"
      },
      "execution_count": null,
      "outputs": [
        {
          "output_type": "display_data",
          "data": {
            "text/plain": [
              "<Figure size 640x480 with 1 Axes>"
            ],
            "image/png": "[encoded data removed]"
          },
          "metadata": {}
        }
      ]
    },
    {
      "cell_type": "markdown",
      "source": [
        "About half of my top songs have a tempo of 100 to 200."
      ],
      "metadata": {
        "id": "HIYeQ0PHJ9A4"
      }
    },
    {
      "cell_type": "code",
      "source": [
        "ax = sns.boxplot(data= df_top_tracks.loc[:, (df_top_tracks.columns!= 'duration') & (df_top_tracks.columns!= 'tempo') & (df_top_tracks.columns!= 'key') & (df_top_tracks.columns!= 'loudness')])\n",
        "ax.set_title(\"Spotify top tracks audio features\")\n",
        "ax.set_xlabel('audio features')\n",
        "ax.set_ylabel(\"values\")\n",
        "plt.xticks(rotation=-90)\n",
        "plt.show()"
      ],
      "metadata": {
        "colab": {
          "base_uri": "https://localhost:8080/",
          "height": 578
        },
        "id": "jTjCHlFQGKqk",
        "outputId": "6317d3fa-1b46-4747-d7d5-24736f395322"
      },
      "execution_count": null,
      "outputs": [
        {
          "output_type": "display_data",
          "data": {
            "text/plain": [
              "<Figure size 640x480 with 1 Axes>"
            ],
            "image/png": "[encoded data removed]"
          },
          "metadata": {}
        }
      ]
    },
    {
      "cell_type": "markdown",
      "source": [
        "My preferred music is generally energetic music. Valence is defined as, \"a measure from 0.0 to 1.0 describing the musical positiveness conveyed by a track. Tracks with high valence sound more positive (e.g. happy, cheerful, euphoric), while tracks with low valence sound more negative (e.g. sad, depressed, angry).\" Based on this definition, it appears like I tend to listen to music that is on average neutral to positive.\n",
        "\n",
        "All of my songs except for one use the 4/4 time signature."
      ],
      "metadata": {
        "id": "enxdIMzaKcWP"
      }
    },
    {
      "cell_type": "code",
      "source": [
        "ax = sns.boxplot(data= df_top_tracks[['key','loudness']])\n",
        "ax.set_title(\"Spotify top tracks audio features\")\n",
        "ax.set_xlabel('audio features')\n",
        "ax.set_ylabel(\"values\")\n",
        "plt.show()"
      ],
      "metadata": {
        "colab": {
          "base_uri": "https://localhost:8080/",
          "height": 472
        },
        "id": "i6eVR_UtHtT1",
        "outputId": "3ae717b1-9473-4350-e41c-ff5f62701bf6"
      },
      "execution_count": null,
      "outputs": [
        {
          "output_type": "display_data",
          "data": {
            "text/plain": [
              "<Figure size 640x480 with 1 Axes>"
            ],
            "image/png": "[encoded data removed]"
          },
          "metadata": {}
        }
      ]
    },
    {
      "cell_type": "markdown",
      "source": [
        "Now that we have taken a quick look at Spotify's audio features, I am going to use these to improve my song recommendation playlist by further filtering songs to my style using cosine similarity. The cosine similarity is a metric that can tell us how similar two vectors are to each other. It calculates cosine of the angle between two vectors. The closer the result is to 1, the more similar the vectors are to each other."
      ],
      "metadata": {
        "id": "vdDqREIFuYQy"
      }
    },
    {
      "cell_type": "code",
      "source": [
        "# I will begin by saving the 'my spotify recs' playlist into a dataframe\n",
        "df_recs = pd.DataFrame({'track': list(rec_uris.keys()), 'uri': list(rec_uris.values())})\n",
        "\n",
        "duration = []\n",
        "danceability = []\n",
        "energy = []\n",
        "key = []\n",
        "loudness = []\n",
        "mode = []\n",
        "speechiness = []\n",
        "acousticness = []\n",
        "instrumentalness = []\n",
        "liveness = []\n",
        "valence = []\n",
        "tempo = []\n",
        "time_signature = []\n",
        "\n",
        "for uri in df_recs['uri']:\n",
        "  results = sp.audio_features(uri)[0]\n",
        "  duration.append(results['duration_ms'])\n",
        "  danceability.append(results['danceability'])\n",
        "  energy.append(results['energy'])\n",
        "  key.append(results['key'])\n",
        "  loudness.append(results['loudness'])\n",
        "  mode.append(results['mode'])\n",
        "  speechiness.append(results['speechiness'])\n",
        "  acousticness.append(results['acousticness'])\n",
        "  instrumentalness.append(results['instrumentalness'])\n",
        "  liveness.append(results['liveness'])\n",
        "  valence.append(results['valence'])\n",
        "  tempo.append(results['tempo'])\n",
        "  time_signature.append(results['time_signature'])\n",
        "\n",
        "# Add audio features to df_recs\n",
        "df_recs['duration'] = duration\n",
        "df_recs['danceability'] = danceability\n",
        "df_recs['energy']= energy\n",
        "df_recs['key'] = key\n",
        "df_recs['loudness'] = loudness\n",
        "df_recs['mode'] = mode\n",
        "df_recs['speechiness'] = speechiness\n",
        "df_recs['acousticness'] = acousticness\n",
        "df_recs['instrumentalness'] = instrumentalness\n",
        "df_recs['liveness'] = liveness\n",
        "df_recs['valence'] = valence\n",
        "df_recs['tempo'] = tempo\n",
        "df_recs['time_signature'] = time_signature"
      ],
      "metadata": {
        "id": "NNl3PDUH_dCg"
      },
      "execution_count": null,
      "outputs": []
    },
    {
      "cell_type": "code",
      "source": [
        "print(f\"Our recommendations playlist is starting out with {len(df_recs)} songs.\")"
      ],
      "metadata": {
        "colab": {
          "base_uri": "https://localhost:8080/"
        },
        "id": "kWc1DzzKR5B_",
        "outputId": "6c30aad0-7b28-4dd3-df72-80a1504cd8aa"
      },
      "execution_count": null,
      "outputs": [
        {
          "output_type": "stream",
          "name": "stdout",
          "text": [
            "Our recommendations playlist is starting out with 100 songs.\n"
          ]
        }
      ]
    },
    {
      "cell_type": "code",
      "source": [
        "from sklearn.preprocessing import MinMaxScaler\n",
        "from sklearn.metrics.pairwise import linear_kernel\n",
        "from sklearn.metrics.pairwise import cosine_similarity\n",
        "\n",
        "def create_similarity_score(df1,df2,similarity_score = \"cosine_sim\"):\n",
        "  assert list(df1.columns[2:]) == list(df2.columns[2:]), \"dataframes need to contain the same columns\"\n",
        "  features = list(df1.columns[2:])\n",
        "  df_features1,df_features2 = df1[features],df2[features]\n",
        "  scaler = MinMaxScaler()\n",
        "  df_features_scaled1,df_features_scaled2 = scaler.fit_transform(df_features1),scaler.fit_transform(df_features2)\n",
        "  if similarity_score == \"linear\":\n",
        "      linear_sim = linear_kernel(df_features_scaled1, df_features_scaled2)\n",
        "      return linear_sim\n",
        "  elif similarity_score == \"cosine_sim\":\n",
        "      cosine_sim = cosine_similarity(df_features_scaled1, df_features_scaled2)\n",
        "      return cosine_sim\n",
        "\n",
        "#create similarity scoring between playlist and recommendations\n",
        "similarity_score = create_similarity_score(df_top_tracks,df_recs)\n",
        "#get a filtered recommendations df\n",
        "final_recomms = df_recs.iloc[[np.argmax(i) for i in similarity_score]]\n",
        "final_recomms = final_recomms.drop_duplicates()\n",
        "#filter again so tracks are not already in df_top_tracks\n",
        "final_recomms = final_recomms[~final_recomms[\"track\"].isin(df_top_tracks[\"track\"])]\n",
        "final_recomms.reset_index(drop = True, inplace = True)"
      ],
      "metadata": {
        "id": "GOCkbCRcRSEl"
      },
      "execution_count": null,
      "outputs": []
    },
    {
      "cell_type": "code",
      "source": [
        "final_recomms"
      ],
      "metadata": {
        "colab": {
          "base_uri": "https://localhost:8080/",
          "height": 1000
        },
        "id": "G-9lUcybS4ma",
        "outputId": "56043e2d-c9b1-46d4-d839-15d284b9579f"
      },
      "execution_count": null,
      "outputs": [
        {
          "output_type": "execute_result",
          "data": {
            "text/plain": [
              "                                       track  \\\n",
              "0                                       Pity   \n",
              "1                          Emotional Eternal   \n",
              "2                                      Trust   \n",
              "3                                     Freazy   \n",
              "4                                    Everest   \n",
              "5                                 Birch Tree   \n",
              "6                            Occasional Rain   \n",
              "7                              Cruel Country   \n",
              "8                                      nasty   \n",
              "9                                 Cash Rules   \n",
              "10                                everything   \n",
              "11                                 Manhattan   \n",
              "12                                 Don't Lie   \n",
              "13                            London Thunder   \n",
              "14                  Fountain of Good Fortune   \n",
              "15                             Song for Zula   \n",
              "16                            Jubilee Street   \n",
              "17                                     Rodeo   \n",
              "18                                   Darling   \n",
              "19                         Ultimate Painting   \n",
              "20                     Not My N*gga Extended   \n",
              "21                                     Blame   \n",
              "22                            Kidding Around   \n",
              "23                            Alone - Slowed   \n",
              "24                                All I Know   \n",
              "25                              Way We Won't   \n",
              "26                                  Too Much   \n",
              "27                                    Weapon   \n",
              "28                           Tread Carefully   \n",
              "29  Die For You (with Ariana Grande) - Remix   \n",
              "30                              1st Position   \n",
              "31                            Necessary Evil   \n",
              "\n",
              "                                     uri  duration  danceability  energy  key  \\\n",
              "0   spotify:track:5SZkbEwBKLbAPhAYYmA1rI    146286         0.596   0.558    0   \n",
              "1   spotify:track:6d1M1R1EcM07juyUwDuAMi    226493         0.637   0.704    8   \n",
              "2   spotify:track:0oufSLnKQDoBFX5mgkDCgR    158421         0.764   0.394    8   \n",
              "3   spotify:track:19WfbfP4sZEk44d4KZtHPx    194840         0.659   0.776    0   \n",
              "4   spotify:track:6NorO8SVLXBm6Dd9gC8QhF    227920         0.584   0.843    3   \n",
              "5   spotify:track:0BPKqNWOKQam19tKWoZQwu    261133         0.659   0.792    6   \n",
              "6   spotify:track:1nru4nURhOZruDe9hsAKte    294040         0.544   0.812    1   \n",
              "7   spotify:track:6mMK7vzPwuel4Lta03w3d9    206240         0.706   0.637    5   \n",
              "8   spotify:track:0sci7ppTZFm4mjcH3nu8yO    200733         0.772   0.506    6   \n",
              "9   spotify:track:7aLDeN4H4taVFvjOQSV2ge    250788         0.689   0.824    6   \n",
              "10  spotify:track:6pyM30WDpG70VTfwoQg4m2    207551         0.388   0.448    8   \n",
              "11  spotify:track:5T4Bf4aKOR4ewZBPJCYGVB    316387         0.710   0.617    7   \n",
              "12  spotify:track:6GRQi06cQ01P4Cnp9JE2Zc    250320         0.618   0.253    5   \n",
              "13  spotify:track:0aTsSP2JiY53i0uZM24Zwp    254427         0.478   0.357    6   \n",
              "14  spotify:track:03xHbQthV1o7FiSieS86Ce    300143         0.591   0.837    3   \n",
              "15  spotify:track:6Thn8AOHIwPCkf2O4ZgfC2    370200         0.486   0.623    4   \n",
              "16  spotify:track:7rbw06Ngndbs8X4iPdepES    395974         0.359   0.396    5   \n",
              "17  spotify:track:2I8OJsxoaUByoURNACArMC    177371         0.908   0.661    7   \n",
              "18  spotify:track:36PQh1G6h7n9VWB799fXpI    260387         0.596   0.894    0   \n",
              "19  spotify:track:0lOVjiVqUQG3cuM4zQiTRo    219129         0.789   0.698    7   \n",
              "20  spotify:track:281hW1bpZ523dJdtspABeh    181025         0.977   0.570    1   \n",
              "21  spotify:track:6S5dMjMifQYmyTu1mX4f8P    127029         0.729   0.380   11   \n",
              "22  spotify:track:3Sok70w3gJWhzwit0T1olM    267453         0.549   0.571    3   \n",
              "23  spotify:track:671aQ9wMCqnbQRavCdAs10    203289         0.710   0.541    1   \n",
              "24  spotify:track:7A1h6WV8D1hTZCQ07tBbZE    326853         0.375   0.775    4   \n",
              "25  spotify:track:1aIiPzU8cnpUb0g8fFZ1r0    261800         0.552   0.584    4   \n",
              "26  spotify:track:2sZmxXCO6mZCPTHd6DRcBH    227756         0.657   0.479    5   \n",
              "27  spotify:track:4ds8Agl8SigeWEl3KqZ5sW    195627         0.582   0.841    1   \n",
              "28  spotify:track:7newfXclX39UwWTw2gDswM    182069         0.505   0.249    1   \n",
              "29  spotify:track:4W4fNrZYkobj539TOWsLO2    232857         0.575   0.500    1   \n",
              "30  spotify:track:6VZLsH7QWE4ZXuhWyVaEmB    190611         0.580   0.590    0   \n",
              "31  spotify:track:4EZ2C0321dYtzKD0zEfsUy    317800         0.828   0.724    9   \n",
              "\n",
              "    loudness  mode  speechiness  acousticness  instrumentalness  liveness  \\\n",
              "0     -7.454     1       0.0412       0.69400          0.000021    0.0860   \n",
              "1     -6.491     1       0.0308       0.02640          0.537000    0.1040   \n",
              "2     -8.559     1       0.1520       0.23100          0.000094    0.1170   \n",
              "3     -7.896     1       0.0331       0.00142          0.009430    0.3500   \n",
              "4     -6.463     1       0.0279       0.00434          0.399000    0.3600   \n",
              "5     -7.101     0       0.0301       0.01860          0.040700    0.1020   \n",
              "6     -6.073     0       0.0271       0.00933          0.001350    0.0652   \n",
              "7     -7.552     1       0.0246       0.11100          0.034900    0.3400   \n",
              "8     -6.558     0       0.1390       0.08140          0.000011    0.1820   \n",
              "9     -2.674     1       0.1400       0.16300          0.000000    0.2190   \n",
              "10    -5.221     0       0.0341       0.85100          0.000000    0.3020   \n",
              "11    -8.059     1       0.0446       0.17400          0.021800    0.1180   \n",
              "12   -15.620     1       0.0356       0.70000          0.051900    0.1030   \n",
              "13    -9.745     1       0.0260       0.64100          0.309000    0.0838   \n",
              "14    -5.868     0       0.0285       0.01270          0.252000    0.1260   \n",
              "15    -8.264     1       0.0358       0.73400          0.536000    0.0509   \n",
              "16   -11.692     1       0.0272       0.43600          0.002380    0.1440   \n",
              "17    -6.028     1       0.1370       0.00126          0.001420    0.1110   \n",
              "18    -5.407     1       0.0265       0.00878          0.006590    0.1040   \n",
              "19    -7.843     1       0.0304       0.59300          0.811000    0.1100   \n",
              "20    -7.396     1       0.2410       0.01020          0.000000    0.1100   \n",
              "21    -8.558     0       0.0990       0.03190          0.000050    0.1190   \n",
              "22   -10.261     0       0.0284       0.79000          0.801000    0.1080   \n",
              "23    -7.367     0       0.0397       0.08840          0.000000    0.1110   \n",
              "24    -7.161     1       0.0583       0.02940          0.646000    0.1190   \n",
              "25    -7.140     1       0.0329       0.04570          0.014200    0.1350   \n",
              "26    -8.161     1       0.3260       0.83300          0.000000    0.1350   \n",
              "27    -5.456     1       0.0335       0.18400          0.000249    0.2070   \n",
              "28   -14.879     0       0.1390       0.11500          0.000000    0.1550   \n",
              "29    -7.594     0       0.0707       0.22700          0.000000    0.3350   \n",
              "30    -6.594     1       0.0439       0.00474          0.000002    0.0589   \n",
              "31    -7.217     1       0.1130       0.04500          0.060600    0.1320   \n",
              "\n",
              "    valence    tempo  time_signature  \n",
              "0    0.4990  104.842               4  \n",
              "1    0.4890   95.016               4  \n",
              "2    0.4650   92.009               4  \n",
              "3    0.5860  112.011               4  \n",
              "4    0.3890  141.978               4  \n",
              "5    0.4670  108.011               4  \n",
              "6    0.5860  112.003               4  \n",
              "7    0.6440  111.924               4  \n",
              "8    0.4560  127.894               4  \n",
              "9    0.5880   77.938               4  \n",
              "10   0.3970  142.342               5  \n",
              "11   0.0960  137.660               4  \n",
              "12   0.3590  126.083               4  \n",
              "13   0.0388   91.735               4  \n",
              "14   0.5120  123.983               4  \n",
              "15   0.5250   86.007               4  \n",
              "16   0.3050   86.144               4  \n",
              "17   0.4760   92.024               4  \n",
              "18   0.5720  132.994               5  \n",
              "19   0.7060  120.956               4  \n",
              "20   0.7730  117.983               4  \n",
              "21   0.3230  114.975               4  \n",
              "22   0.6930  102.673               4  \n",
              "23   0.0621  125.222               4  \n",
              "24   0.0396  110.136               4  \n",
              "25   0.4770  113.977               4  \n",
              "26   0.3520  120.283               4  \n",
              "27   0.9010   90.992               4  \n",
              "28   0.2070  115.815               4  \n",
              "29   0.5060   67.033               4  \n",
              "30   0.1720  116.862               4  \n",
              "31   0.6950   96.200               4  "
            ],
            "text/html": [
              "\n",
              "  <div id=\"df-306ed5f6-c3c5-4946-ab0b-7ba71bbb2ab7\">\n",
              "    <div class=\"colab-df-container\">\n",
              "      <div>\n",
              "<style scoped>\n",
              "    .dataframe tbody tr th:only-of-type {\n",
              "        vertical-align: middle;\n",
              "    }\n",
              "\n",
              "    .dataframe tbody tr th {\n",
              "        vertical-align: top;\n",
              "    }\n",
              "\n",
              "    .dataframe thead th {\n",
              "        text-align: right;\n",
              "    }\n",
              "</style>\n",
              "<table border=\"1\" class=\"dataframe\">\n",
              "  <thead>\n",
              "    <tr style=\"text-align: right;\">\n",
              "      <th></th>\n",
              "      <th>track</th>\n",
              "      <th>uri</th>\n",
              "      <th>duration</th>\n",
              "      <th>danceability</th>\n",
              "      <th>energy</th>\n",
              "      <th>key</th>\n",
              "      <th>loudness</th>\n",
              "      <th>mode</th>\n",
              "      <th>speechiness</th>\n",
              "      <th>acousticness</th>\n",
              "      <th>instrumentalness</th>\n",
              "      <th>liveness</th>\n",
              "      <th>valence</th>\n",
              "      <th>tempo</th>\n",
              "      <th>time_signature</th>\n",
              "    </tr>\n",
              "  </thead>\n",
              "  <tbody>\n",
              "    <tr>\n",
              "      <th>0</th>\n",
              "      <td>Pity</td>\n",
              "      <td>spotify:track:5SZkbEwBKLbAPhAYYmA1rI</td>\n",
              "      <td>146286</td>\n",
              "      <td>0.596</td>\n",
              "      <td>0.558</td>\n",
              "      <td>0</td>\n",
              "      <td>-7.454</td>\n",
              "      <td>1</td>\n",
              "      <td>0.0412</td>\n",
              "      <td>0.69400</td>\n",
              "      <td>0.000021</td>\n",
              "      <td>0.0860</td>\n",
              "      <td>0.4990</td>\n",
              "      <td>104.842</td>\n",
              "      <td>4</td>\n",
              "    </tr>\n",
              "    <tr>\n",
              "      <th>1</th>\n",
              "      <td>Emotional Eternal</td>\n",
              "      <td>spotify:track:6d1M1R1EcM07juyUwDuAMi</td>\n",
              "      <td>226493</td>\n",
              "      <td>0.637</td>\n",
              "      <td>0.704</td>\n",
              "      <td>8</td>\n",
              "      <td>-6.491</td>\n",
              "      <td>1</td>\n",
              "      <td>0.0308</td>\n",
              "      <td>0.02640</td>\n",
              "      <td>0.537000</td>\n",
              "      <td>0.1040</td>\n",
              "      <td>0.4890</td>\n",
              "      <td>95.016</td>\n",
              "      <td>4</td>\n",
              "    </tr>\n",
              "    <tr>\n",
              "      <th>2</th>\n",
              "      <td>Trust</td>\n",
              "      <td>spotify:track:0oufSLnKQDoBFX5mgkDCgR</td>\n",
              "      <td>158421</td>\n",
              "      <td>0.764</td>\n",
              "      <td>0.394</td>\n",
              "      <td>8</td>\n",
              "      <td>-8.559</td>\n",
              "      <td>1</td>\n",
              "      <td>0.1520</td>\n",
              "      <td>0.23100</td>\n",
              "      <td>0.000094</td>\n",
              "      <td>0.1170</td>\n",
              "      <td>0.4650</td>\n",
              "      <td>92.009</td>\n",
              "      <td>4</td>\n",
              "    </tr>\n",
              "    <tr>\n",
              "      <th>3</th>\n",
              "      <td>Freazy</td>\n",
              "      <td>spotify:track:19WfbfP4sZEk44d4KZtHPx</td>\n",
              "      <td>194840</td>\n",
              "      <td>0.659</td>\n",
              "      <td>0.776</td>\n",
              "      <td>0</td>\n",
              "      <td>-7.896</td>\n",
              "      <td>1</td>\n",
              "      <td>0.0331</td>\n",
              "      <td>0.00142</td>\n",
              "      <td>0.009430</td>\n",
              "      <td>0.3500</td>\n",
              "      <td>0.5860</td>\n",
              "      <td>112.011</td>\n",
              "      <td>4</td>\n",
              "    </tr>\n",
              "    <tr>\n",
              "      <th>4</th>\n",
              "      <td>Everest</td>\n",
              "      <td>spotify:track:6NorO8SVLXBm6Dd9gC8QhF</td>\n",
              "      <td>227920</td>\n",
              "      <td>0.584</td>\n",
              "      <td>0.843</td>\n",
              "      <td>3</td>\n",
              "      <td>-6.463</td>\n",
              "      <td>1</td>\n",
              "      <td>0.0279</td>\n",
              "      <td>0.00434</td>\n",
              "      <td>0.399000</td>\n",
              "      <td>0.3600</td>\n",
              "      <td>0.3890</td>\n",
              "      <td>141.978</td>\n",
              "      <td>4</td>\n",
              "    </tr>\n",
              "    <tr>\n",
              "      <th>5</th>\n",
              "      <td>Birch Tree</td>\n",
              "      <td>spotify:track:0BPKqNWOKQam19tKWoZQwu</td>\n",
              "      <td>261133</td>\n",
              "      <td>0.659</td>\n",
              "      <td>0.792</td>\n",
              "      <td>6</td>\n",
              "      <td>-7.101</td>\n",
              "      <td>0</td>\n",
              "      <td>0.0301</td>\n",
              "      <td>0.01860</td>\n",
              "      <td>0.040700</td>\n",
              "      <td>0.1020</td>\n",
              "      <td>0.4670</td>\n",
              "      <td>108.011</td>\n",
              "      <td>4</td>\n",
              "    </tr>\n",
              "    <tr>\n",
              "      <th>6</th>\n",
              "      <td>Occasional Rain</td>\n",
              "      <td>spotify:track:1nru4nURhOZruDe9hsAKte</td>\n",
              "      <td>294040</td>\n",
              "      <td>0.544</td>\n",
              "      <td>0.812</td>\n",
              "      <td>1</td>\n",
              "      <td>-6.073</td>\n",
              "      <td>0</td>\n",
              "      <td>0.0271</td>\n",
              "      <td>0.00933</td>\n",
              "      <td>0.001350</td>\n",
              "      <td>0.0652</td>\n",
              "      <td>0.5860</td>\n",
              "      <td>112.003</td>\n",
              "      <td>4</td>\n",
              "    </tr>\n",
              "    <tr>\n",
              "      <th>7</th>\n",
              "      <td>Cruel Country</td>\n",
              "      <td>spotify:track:6mMK7vzPwuel4Lta03w3d9</td>\n",
              "      <td>206240</td>\n",
              "      <td>0.706</td>\n",
              "      <td>0.637</td>\n",
              "      <td>5</td>\n",
              "      <td>-7.552</td>\n",
              "      <td>1</td>\n",
              "      <td>0.0246</td>\n",
              "      <td>0.11100</td>\n",
              "      <td>0.034900</td>\n",
              "      <td>0.3400</td>\n",
              "      <td>0.6440</td>\n",
              "      <td>111.924</td>\n",
              "      <td>4</td>\n",
              "    </tr>\n",
              "    <tr>\n",
              "      <th>8</th>\n",
              "      <td>nasty</td>\n",
              "      <td>spotify:track:0sci7ppTZFm4mjcH3nu8yO</td>\n",
              "      <td>200733</td>\n",
              "      <td>0.772</td>\n",
              "      <td>0.506</td>\n",
              "      <td>6</td>\n",
              "      <td>-6.558</td>\n",
              "      <td>0</td>\n",
              "      <td>0.1390</td>\n",
              "      <td>0.08140</td>\n",
              "      <td>0.000011</td>\n",
              "      <td>0.1820</td>\n",
              "      <td>0.4560</td>\n",
              "      <td>127.894</td>\n",
              "      <td>4</td>\n",
              "    </tr>\n",
              "    <tr>\n",
              "      <th>9</th>\n",
              "      <td>Cash Rules</td>\n",
              "      <td>spotify:track:7aLDeN4H4taVFvjOQSV2ge</td>\n",
              "      <td>250788</td>\n",
              "      <td>0.689</td>\n",
              "      <td>0.824</td>\n",
              "      <td>6</td>\n",
              "      <td>-2.674</td>\n",
              "      <td>1</td>\n",
              "      <td>0.1400</td>\n",
              "      <td>0.16300</td>\n",
              "      <td>0.000000</td>\n",
              "      <td>0.2190</td>\n",
              "      <td>0.5880</td>\n",
              "      <td>77.938</td>\n",
              "      <td>4</td>\n",
              "    </tr>\n",
              "    <tr>\n",
              "      <th>10</th>\n",
              "      <td>everything</td>\n",
              "      <td>spotify:track:6pyM30WDpG70VTfwoQg4m2</td>\n",
              "      <td>207551</td>\n",
              "      <td>0.388</td>\n",
              "      <td>0.448</td>\n",
              "      <td>8</td>\n",
              "      <td>-5.221</td>\n",
              "      <td>0</td>\n",
              "      <td>0.0341</td>\n",
              "      <td>0.85100</td>\n",
              "      <td>0.000000</td>\n",
              "      <td>0.3020</td>\n",
              "      <td>0.3970</td>\n",
              "      <td>142.342</td>\n",
              "      <td>5</td>\n",
              "    </tr>\n",
              "    <tr>\n",
              "      <th>11</th>\n",
              "      <td>Manhattan</td>\n",
              "      <td>spotify:track:5T4Bf4aKOR4ewZBPJCYGVB</td>\n",
              "      <td>316387</td>\n",
              "      <td>0.710</td>\n",
              "      <td>0.617</td>\n",
              "      <td>7</td>\n",
              "      <td>-8.059</td>\n",
              "      <td>1</td>\n",
              "      <td>0.0446</td>\n",
              "      <td>0.17400</td>\n",
              "      <td>0.021800</td>\n",
              "      <td>0.1180</td>\n",
              "      <td>0.0960</td>\n",
              "      <td>137.660</td>\n",
              "      <td>4</td>\n",
              "    </tr>\n",
              "    <tr>\n",
              "      <th>12</th>\n",
              "      <td>Don't Lie</td>\n",
              "      <td>spotify:track:6GRQi06cQ01P4Cnp9JE2Zc</td>\n",
              "      <td>250320</td>\n",
              "      <td>0.618</td>\n",
              "      <td>0.253</td>\n",
              "      <td>5</td>\n",
              "      <td>-15.620</td>\n",
              "      <td>1</td>\n",
              "      <td>0.0356</td>\n",
              "      <td>0.70000</td>\n",
              "      <td>0.051900</td>\n",
              "      <td>0.1030</td>\n",
              "      <td>0.3590</td>\n",
              "      <td>126.083</td>\n",
              "      <td>4</td>\n",
              "    </tr>\n",
              "    <tr>\n",
              "      <th>13</th>\n",
              "      <td>London Thunder</td>\n",
              "      <td>spotify:track:0aTsSP2JiY53i0uZM24Zwp</td>\n",
              "      <td>254427</td>\n",
              "      <td>0.478</td>\n",
              "      <td>0.357</td>\n",
              "      <td>6</td>\n",
              "      <td>-9.745</td>\n",
              "      <td>1</td>\n",
              "      <td>0.0260</td>\n",
              "      <td>0.64100</td>\n",
              "      <td>0.309000</td>\n",
              "      <td>0.0838</td>\n",
              "      <td>0.0388</td>\n",
              "      <td>91.735</td>\n",
              "      <td>4</td>\n",
              "    </tr>\n",
              "    <tr>\n",
              "      <th>14</th>\n",
              "      <td>Fountain of Good Fortune</td>\n",
              "      <td>spotify:track:03xHbQthV1o7FiSieS86Ce</td>\n",
              "      <td>300143</td>\n",
              "      <td>0.591</td>\n",
              "      <td>0.837</td>\n",
              "      <td>3</td>\n",
              "      <td>-5.868</td>\n",
              "      <td>0</td>\n",
              "      <td>0.0285</td>\n",
              "      <td>0.01270</td>\n",
              "      <td>0.252000</td>\n",
              "      <td>0.1260</td>\n",
              "      <td>0.5120</td>\n",
              "      <td>123.983</td>\n",
              "      <td>4</td>\n",
              "    </tr>\n",
              "    <tr>\n",
              "      <th>15</th>\n",
              "      <td>Song for Zula</td>\n",
              "      <td>spotify:track:6Thn8AOHIwPCkf2O4ZgfC2</td>\n",
              "      <td>370200</td>\n",
              "      <td>0.486</td>\n",
              "      <td>0.623</td>\n",
              "      <td>4</td>\n",
              "      <td>-8.264</td>\n",
              "      <td>1</td>\n",
              "      <td>0.0358</td>\n",
              "      <td>0.73400</td>\n",
              "      <td>0.536000</td>\n",
              "      <td>0.0509</td>\n",
              "      <td>0.5250</td>\n",
              "      <td>86.007</td>\n",
              "      <td>4</td>\n",
              "    </tr>\n",
              "    <tr>\n",
              "      <th>16</th>\n",
              "      <td>Jubilee Street</td>\n",
              "      <td>spotify:track:7rbw06Ngndbs8X4iPdepES</td>\n",
              "      <td>395974</td>\n",
              "      <td>0.359</td>\n",
              "      <td>0.396</td>\n",
              "      <td>5</td>\n",
              "      <td>-11.692</td>\n",
              "      <td>1</td>\n",
              "      <td>0.0272</td>\n",
              "      <td>0.43600</td>\n",
              "      <td>0.002380</td>\n",
              "      <td>0.1440</td>\n",
              "      <td>0.3050</td>\n",
              "      <td>86.144</td>\n",
              "      <td>4</td>\n",
              "    </tr>\n",
              "    <tr>\n",
              "      <th>17</th>\n",
              "      <td>Rodeo</td>\n",
              "      <td>spotify:track:2I8OJsxoaUByoURNACArMC</td>\n",
              "      <td>177371</td>\n",
              "      <td>0.908</td>\n",
              "      <td>0.661</td>\n",
              "      <td>7</td>\n",
              "      <td>-6.028</td>\n",
              "      <td>1</td>\n",
              "      <td>0.1370</td>\n",
              "      <td>0.00126</td>\n",
              "      <td>0.001420</td>\n",
              "      <td>0.1110</td>\n",
              "      <td>0.4760</td>\n",
              "      <td>92.024</td>\n",
              "      <td>4</td>\n",
              "    </tr>\n",
              "    <tr>\n",
              "      <th>18</th>\n",
              "      <td>Darling</td>\n",
              "      <td>spotify:track:36PQh1G6h7n9VWB799fXpI</td>\n",
              "      <td>260387</td>\n",
              "      <td>0.596</td>\n",
              "      <td>0.894</td>\n",
              "      <td>0</td>\n",
              "      <td>-5.407</td>\n",
              "      <td>1</td>\n",
              "      <td>0.0265</td>\n",
              "      <td>0.00878</td>\n",
              "      <td>0.006590</td>\n",
              "      <td>0.1040</td>\n",
              "      <td>0.5720</td>\n",
              "      <td>132.994</td>\n",
              "      <td>5</td>\n",
              "    </tr>\n",
              "    <tr>\n",
              "      <th>19</th>\n",
              "      <td>Ultimate Painting</td>\n",
              "      <td>spotify:track:0lOVjiVqUQG3cuM4zQiTRo</td>\n",
              "      <td>219129</td>\n",
              "      <td>0.789</td>\n",
              "      <td>0.698</td>\n",
              "      <td>7</td>\n",
              "      <td>-7.843</td>\n",
              "      <td>1</td>\n",
              "      <td>0.0304</td>\n",
              "      <td>0.59300</td>\n",
              "      <td>0.811000</td>\n",
              "      <td>0.1100</td>\n",
              "      <td>0.7060</td>\n",
              "      <td>120.956</td>\n",
              "      <td>4</td>\n",
              "    </tr>\n",
              "    <tr>\n",
              "      <th>20</th>\n",
              "      <td>Not My N*gga Extended</td>\n",
              "      <td>spotify:track:281hW1bpZ523dJdtspABeh</td>\n",
              "      <td>181025</td>\n",
              "      <td>0.977</td>\n",
              "      <td>0.570</td>\n",
              "      <td>1</td>\n",
              "      <td>-7.396</td>\n",
              "      <td>1</td>\n",
              "      <td>0.2410</td>\n",
              "      <td>0.01020</td>\n",
              "      <td>0.000000</td>\n",
              "      <td>0.1100</td>\n",
              "      <td>0.7730</td>\n",
              "      <td>117.983</td>\n",
              "      <td>4</td>\n",
              "    </tr>\n",
              "    <tr>\n",
              "      <th>21</th>\n",
              "      <td>Blame</td>\n",
              "      <td>spotify:track:6S5dMjMifQYmyTu1mX4f8P</td>\n",
              "      <td>127029</td>\n",
              "      <td>0.729</td>\n",
              "      <td>0.380</td>\n",
              "      <td>11</td>\n",
              "      <td>-8.558</td>\n",
              "      <td>0</td>\n",
              "      <td>0.0990</td>\n",
              "      <td>0.03190</td>\n",
              "      <td>0.000050</td>\n",
              "      <td>0.1190</td>\n",
              "      <td>0.3230</td>\n",
              "      <td>114.975</td>\n",
              "      <td>4</td>\n",
              "    </tr>\n",
              "    <tr>\n",
              "      <th>22</th>\n",
              "      <td>Kidding Around</td>\n",
              "      <td>spotify:track:3Sok70w3gJWhzwit0T1olM</td>\n",
              "      <td>267453</td>\n",
              "      <td>0.549</td>\n",
              "      <td>0.571</td>\n",
              "      <td>3</td>\n",
              "      <td>-10.261</td>\n",
              "      <td>0</td>\n",
              "      <td>0.0284</td>\n",
              "      <td>0.79000</td>\n",
              "      <td>0.801000</td>\n",
              "      <td>0.1080</td>\n",
              "      <td>0.6930</td>\n",
              "      <td>102.673</td>\n",
              "      <td>4</td>\n",
              "    </tr>\n",
              "    <tr>\n",
              "      <th>23</th>\n",
              "      <td>Alone - Slowed</td>\n",
              "      <td>spotify:track:671aQ9wMCqnbQRavCdAs10</td>\n",
              "      <td>203289</td>\n",
              "      <td>0.710</td>\n",
              "      <td>0.541</td>\n",
              "      <td>1</td>\n",
              "      <td>-7.367</td>\n",
              "      <td>0</td>\n",
              "      <td>0.0397</td>\n",
              "      <td>0.08840</td>\n",
              "      <td>0.000000</td>\n",
              "      <td>0.1110</td>\n",
              "      <td>0.0621</td>\n",
              "      <td>125.222</td>\n",
              "      <td>4</td>\n",
              "    </tr>\n",
              "    <tr>\n",
              "      <th>24</th>\n",
              "      <td>All I Know</td>\n",
              "      <td>spotify:track:7A1h6WV8D1hTZCQ07tBbZE</td>\n",
              "      <td>326853</td>\n",
              "      <td>0.375</td>\n",
              "      <td>0.775</td>\n",
              "      <td>4</td>\n",
              "      <td>-7.161</td>\n",
              "      <td>1</td>\n",
              "      <td>0.0583</td>\n",
              "      <td>0.02940</td>\n",
              "      <td>0.646000</td>\n",
              "      <td>0.1190</td>\n",
              "      <td>0.0396</td>\n",
              "      <td>110.136</td>\n",
              "      <td>4</td>\n",
              "    </tr>\n",
              "    <tr>\n",
              "      <th>25</th>\n",
              "      <td>Way We Won't</td>\n",
              "      <td>spotify:track:1aIiPzU8cnpUb0g8fFZ1r0</td>\n",
              "      <td>261800</td>\n",
              "      <td>0.552</td>\n",
              "      <td>0.584</td>\n",
              "      <td>4</td>\n",
              "      <td>-7.140</td>\n",
              "      <td>1</td>\n",
              "      <td>0.0329</td>\n",
              "      <td>0.04570</td>\n",
              "      <td>0.014200</td>\n",
              "      <td>0.1350</td>\n",
              "      <td>0.4770</td>\n",
              "      <td>113.977</td>\n",
              "      <td>4</td>\n",
              "    </tr>\n",
              "    <tr>\n",
              "      <th>26</th>\n",
              "      <td>Too Much</td>\n",
              "      <td>spotify:track:2sZmxXCO6mZCPTHd6DRcBH</td>\n",
              "      <td>227756</td>\n",
              "      <td>0.657</td>\n",
              "      <td>0.479</td>\n",
              "      <td>5</td>\n",
              "      <td>-8.161</td>\n",
              "      <td>1</td>\n",
              "      <td>0.3260</td>\n",
              "      <td>0.83300</td>\n",
              "      <td>0.000000</td>\n",
              "      <td>0.1350</td>\n",
              "      <td>0.3520</td>\n",
              "      <td>120.283</td>\n",
              "      <td>4</td>\n",
              "    </tr>\n",
              "    <tr>\n",
              "      <th>27</th>\n",
              "      <td>Weapon</td>\n",
              "      <td>spotify:track:4ds8Agl8SigeWEl3KqZ5sW</td>\n",
              "      <td>195627</td>\n",
              "      <td>0.582</td>\n",
              "      <td>0.841</td>\n",
              "      <td>1</td>\n",
              "      <td>-5.456</td>\n",
              "      <td>1</td>\n",
              "      <td>0.0335</td>\n",
              "      <td>0.18400</td>\n",
              "      <td>0.000249</td>\n",
              "      <td>0.2070</td>\n",
              "      <td>0.9010</td>\n",
              "      <td>90.992</td>\n",
              "      <td>4</td>\n",
              "    </tr>\n",
              "    <tr>\n",
              "      <th>28</th>\n",
              "      <td>Tread Carefully</td>\n",
              "      <td>spotify:track:7newfXclX39UwWTw2gDswM</td>\n",
              "      <td>182069</td>\n",
              "      <td>0.505</td>\n",
              "      <td>0.249</td>\n",
              "      <td>1</td>\n",
              "      <td>-14.879</td>\n",
              "      <td>0</td>\n",
              "      <td>0.1390</td>\n",
              "      <td>0.11500</td>\n",
              "      <td>0.000000</td>\n",
              "      <td>0.1550</td>\n",
              "      <td>0.2070</td>\n",
              "      <td>115.815</td>\n",
              "      <td>4</td>\n",
              "    </tr>\n",
              "    <tr>\n",
              "      <th>29</th>\n",
              "      <td>Die For You (with Ariana Grande) - Remix</td>\n",
              "      <td>spotify:track:4W4fNrZYkobj539TOWsLO2</td>\n",
              "      <td>232857</td>\n",
              "      <td>0.575</td>\n",
              "      <td>0.500</td>\n",
              "      <td>1</td>\n",
              "      <td>-7.594</td>\n",
              "      <td>0</td>\n",
              "      <td>0.0707</td>\n",
              "      <td>0.22700</td>\n",
              "      <td>0.000000</td>\n",
              "      <td>0.3350</td>\n",
              "      <td>0.5060</td>\n",
              "      <td>67.033</td>\n",
              "      <td>4</td>\n",
              "    </tr>\n",
              "    <tr>\n",
              "      <th>30</th>\n",
              "      <td>1st Position</td>\n",
              "      <td>spotify:track:6VZLsH7QWE4ZXuhWyVaEmB</td>\n",
              "      <td>190611</td>\n",
              "      <td>0.580</td>\n",
              "      <td>0.590</td>\n",
              "      <td>0</td>\n",
              "      <td>-6.594</td>\n",
              "      <td>1</td>\n",
              "      <td>0.0439</td>\n",
              "      <td>0.00474</td>\n",
              "      <td>0.000002</td>\n",
              "      <td>0.0589</td>\n",
              "      <td>0.1720</td>\n",
              "      <td>116.862</td>\n",
              "      <td>4</td>\n",
              "    </tr>\n",
              "    <tr>\n",
              "      <th>31</th>\n",
              "      <td>Necessary Evil</td>\n",
              "      <td>spotify:track:4EZ2C0321dYtzKD0zEfsUy</td>\n",
              "      <td>317800</td>\n",
              "      <td>0.828</td>\n",
              "      <td>0.724</td>\n",
              "      <td>9</td>\n",
              "      <td>-7.217</td>\n",
              "      <td>1</td>\n",
              "      <td>0.1130</td>\n",
              "      <td>0.04500</td>\n",
              "      <td>0.060600</td>\n",
              "      <td>0.1320</td>\n",
              "      <td>0.6950</td>\n",
              "      <td>96.200</td>\n",
              "      <td>4</td>\n",
              "    </tr>\n",
              "  </tbody>\n",
              "</table>\n",
              "</div>\n",
              "      <button class=\"colab-df-convert\" onclick=\"convertToInteractive('df-306ed5f6-c3c5-4946-ab0b-7ba71bbb2ab7')\"\n",
              "              title=\"Convert this dataframe to an interactive table.\"\n",
              "              style=\"display:none;\">\n",
              "        \n",
              "  <svg xmlns=\"http://www.w3.org/2000/svg\" height=\"24px\"viewBox=\"0 0 24 24\"\n",
              "       width=\"24px\">\n",
              "    <path d=\"M0 0h24v24H0V0z\" fill=\"none\"/>\n",
              "    <path d=\"M18.56 5.44l.94 2.06.94-2.06 2.06-.94-2.06-.94-.94-2.06-.94 2.06-2.06.94zm-11 1L8.5 8.5l.94-2.06 2.06-.94-2.06-.94L8.5 2.5l-.94 2.06-2.06.94zm10 10l.94 2.06.94-2.06 2.06-.94-2.06-.94-.94-2.06-.94 2.06-2.06.94z\"/><path d=\"M17.41 7.96l-1.37-1.37c-.4-.4-.92-.59-1.43-.59-.52 0-1.04.2-1.43.59L10.3 9.45l-7.72 7.72c-.78.78-.78 2.05 0 2.83L4 21.41c.39.39.9.59 1.41.59.51 0 1.02-.2 1.41-.59l7.78-7.78 2.81-2.81c.8-.78.8-2.07 0-2.86zM5.41 20L4 18.59l7.72-7.72 1.47 1.35L5.41 20z\"/>\n",
              "  </svg>\n",
              "      </button>\n",
              "      \n",
              "  <style>\n",
              "    .colab-df-container {\n",
              "      display:flex;\n",
              "      flex-wrap:wrap;\n",
              "      gap: 12px;\n",
              "    }\n",
              "\n",
              "    .colab-df-convert {\n",
              "      background-color: #E8F0FE;\n",
              "      border: none;\n",
              "      border-radius: 50%;\n",
              "      cursor: pointer;\n",
              "      display: none;\n",
              "      fill: #1967D2;\n",
              "      height: 32px;\n",
              "      padding: 0 0 0 0;\n",
              "      width: 32px;\n",
              "    }\n",
              "\n",
              "    .colab-df-convert:hover {\n",
              "      background-color: #E2EBFA;\n",
              "      box-shadow: 0px 1px 2px rgba(60, 64, 67, 0.3), 0px 1px 3px 1px rgba(60, 64, 67, 0.15);\n",
              "      fill: #174EA6;\n",
              "    }\n",
              "\n",
              "    [theme=dark] .colab-df-convert {\n",
              "      background-color: #3B4455;\n",
              "      fill: #D2E3FC;\n",
              "    }\n",
              "\n",
              "    [theme=dark] .colab-df-convert:hover {\n",
              "      background-color: #434B5C;\n",
              "      box-shadow: 0px 1px 3px 1px rgba(0, 0, 0, 0.15);\n",
              "      filter: drop-shadow(0px 1px 2px rgba(0, 0, 0, 0.3));\n",
              "      fill: #FFFFFF;\n",
              "    }\n",
              "  </style>\n",
              "\n",
              "      <script>\n",
              "        const buttonEl =\n",
              "          document.querySelector('#df-306ed5f6-c3c5-4946-ab0b-7ba71bbb2ab7 button.colab-df-convert');\n",
              "        buttonEl.style.display =\n",
              "          google.colab.kernel.accessAllowed ? 'block' : 'none';\n",
              "\n",
              "        async function convertToInteractive(key) {\n",
              "          const element = document.querySelector('#df-306ed5f6-c3c5-4946-ab0b-7ba71bbb2ab7');\n",
              "          const dataTable =\n",
              "            await google.colab.kernel.invokeFunction('convertToInteractive',\n",
              "                                                     [key], {});\n",
              "          if (!dataTable) return;\n",
              "\n",
              "          const docLinkHtml = 'Like what you see? Visit the ' +\n",
              "            '<a target=\"_blank\" href=https://colab.research.google.com/notebooks/data_table.ipynb>data table notebook</a>'\n",
              "            + ' to learn more about interactive tables.';\n",
              "          element.innerHTML = '';\n",
              "          dataTable['output_type'] = 'display_data';\n",
              "          await google.colab.output.renderOutput(dataTable, element);\n",
              "          const docLink = document.createElement('div');\n",
              "          docLink.innerHTML = docLinkHtml;\n",
              "          element.appendChild(docLink);\n",
              "        }\n",
              "      </script>\n",
              "    </div>\n",
              "  </div>\n",
              "  "
            ]
          },
          "metadata": {},
          "execution_count": 142
        }
      ]
    },
    {
      "cell_type": "code",
      "source": [
        "print(f\"After filtering using cosine similarity, our recommendations playlist ended up with {len(final_recomms)} songs.\")"
      ],
      "metadata": {
        "colab": {
          "base_uri": "https://localhost:8080/"
        },
        "id": "0Aa1KLwfS50v",
        "outputId": "7f664c81-094c-467e-8148-c623566f4f2e"
      },
      "execution_count": null,
      "outputs": [
        {
          "output_type": "stream",
          "name": "stdout",
          "text": [
            "After filtering using cosine similarity, our recommendations playlist ended up with 32 songs.\n"
          ]
        }
      ]
    },
    {
      "cell_type": "markdown",
      "source": [
        "I used cosine similarity to filter out 68 songs. I will be saving this new list of songs into a new playlist."
      ],
      "metadata": {
        "id": "xg6T58GQTtc1"
      }
    },
    {
      "cell_type": "code",
      "source": [
        "playlist = sp.user_playlist_create(user = 'likesonicboom', name='my spotify recs (filtered)', public=True)\n",
        "sp.playlist_add_items(playlist_id=playlist['id'], items=list(final_recomms['uri']), position=None)"
      ],
      "metadata": {
        "id": "4SJc6es5TGJ0"
      },
      "execution_count": null,
      "outputs": []
    },
    {
      "cell_type": "markdown",
      "source": [
        "Done!"
      ],
      "metadata": {
        "id": "9CJjdBfLZn-j"
      }
    }
  ]
}